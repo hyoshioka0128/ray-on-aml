{
 "cells": [
  {
   "cell_type": "markdown",
   "id": "b5e7368b",
   "metadata": {},
   "source": [
    "## This notebook gives instructions on advanced scenarios"
   ]
  },
  {
   "cell_type": "code",
   "execution_count": null,
   "id": "8356631d",
   "metadata": {},
   "outputs": [],
   "source": [
    "from azureml.core import Workspace, Experiment, Environment, Datastore, Dataset, ScriptRunConfig\n",
    "from azureml.core.runconfig import PyTorchConfiguration\n",
    "# from azureml.widgets import RunDetails\n",
    "from azureml.core.compute import ComputeTarget, AmlCompute\n",
    "from azureml.core.compute_target import ComputeTargetException\n",
    "from azureml.core.environment import Environment\n",
    "from IPython.display import clear_output\n",
    "import time\n"
   ]
  },
  {
   "cell_type": "code",
   "execution_count": null,
   "id": "f34fa4cd",
   "metadata": {},
   "outputs": [],
   "source": [
    "from ray_on_aml.core import Ray_On_AML\n",
    "\n",
    "ws = Workspace.from_config()\n",
    "ray_on_aml =Ray_On_AML(ws=ws, compute_cluster =\"d15-v2\",additional_pip_packages=['torch==1.10.0', 'torchvision', 'sklearn'], maxnode=1)\n",
    "ray = ray_on_aml.getRay()\n",
    "# Note that by default, ci_is_head=True which means  compute instance as head node and all nodes in the remote compute cluster as workers \n",
    "# But if you want to use one of the nodes in the remote AML compute cluster is used as head node and the remaining are worker nodes.\n",
    "# then simply specify ray = ray_on_aml.getRay(ci_is_head=False)\n",
    "# To install additional library, use additional_pip_packages and additional_conda_packages parameters.\n",
    "time.sleep(50)\n",
    "ray.cluster_resources()"
   ]
  },
  {
   "cell_type": "markdown",
   "id": "bd56dc7e",
   "metadata": {},
   "source": [
    "## Loading custom resources such as files and python modules to run interactively"
   ]
  },
  {
   "cell_type": "code",
   "execution_count": null,
   "id": "2fded278",
   "metadata": {},
   "outputs": [],
   "source": [
    "#Create a new client object\n",
    "import ray\n",
    "from files import utils \n",
    "client = ray.init(f\"ray://{ray_on_aml.headnode_private_ip()}:10001\", runtime_env={\"py_modules\": ['files']})\n",
    "\n",
    "\n",
    "@ray.remote\n",
    "class test():\n",
    "    def test_method(self):\n",
    "        return utils.Foo().bar()\n",
    "        return(os.listdir())\n",
    "test_obj = test.remote()\n",
    "print(ray.get(test_obj.test_method.remote()))\n",
    "client.disconnect() \n",
    "#disconnect after use, if you don't do this, you will have error if you run the client connection again\n"
   ]
  },
  {
   "cell_type": "markdown",
   "id": "92fd121e",
   "metadata": {},
   "source": [
    "Learn more at https://docs.ray.io/en/latest/handling-dependencies.html"
   ]
  }
 ],
 "metadata": {
  "kernelspec": {
   "display_name": "Python 3.8 - AzureML",
   "language": "python",
   "name": "python38-azureml"
  },
  "language_info": {
   "codemirror_mode": {
    "name": "ipython",
    "version": 3
   },
   "file_extension": ".py",
   "mimetype": "text/x-python",
   "name": "python",
   "nbconvert_exporter": "python",
   "pygments_lexer": "ipython3",
   "version": "3.8.1"
  }
 },
 "nbformat": 4,
 "nbformat_minor": 5
}
