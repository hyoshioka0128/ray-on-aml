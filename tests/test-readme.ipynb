{
  "cells": [
    {
      "cell_type": "code",
      "source": [
        "%pip install adlfs==2022.11.2"
      ],
      "outputs": [],
      "execution_count": null,
      "metadata": {}
    },
    {
      "cell_type": "code",
      "source": [
        "# import required libraries\r\n",
        "from azure.ai.ml import MLClient\r\n",
        "from azure.ai.ml import command, Input\r\n",
        "from azure.identity import DefaultAzureCredential\r\n",
        "import sys\r\n",
        "\r\n",
        "# Enter details of your AML workspace\r\n",
        "subscription_id = \"89da9f33-fd31-4ece-861e-5fab7af4dc11\"\r\n",
        "resource_group = \"mtcs-dev-aml-rg\"\r\n",
        "workspace = \"mtcs-dev-aml\"\r\n",
        "# get a handle to the workspace\r\n",
        "ml_client = MLClient(\r\n",
        "    DefaultAzureCredential(), subscription_id, resource_group, workspace\r\n",
        ")\r\n",
        "\r\n",
        "sys.path.append(\"../\") # go to parent dir"
      ],
      "outputs": [],
      "execution_count": 4,
      "metadata": {
        "jupyter": {
          "source_hidden": false,
          "outputs_hidden": false
        },
        "nteract": {
          "transient": {
            "deleting": false
          }
        },
        "gather": {
          "logged": 1671087527466
        }
      }
    },
    {
      "cell_type": "code",
      "source": [
        "from src.ray_on_aml.core import Ray_On_AML\r\n",
        "import logging\r\n",
        "\r\n",
        "ray_on_aml =Ray_On_AML(ml_client=ml_client, compute_cluster =\"ray-on-aml-workers\")\r\n",
        "#Note that if you need to customize the pip installation of the cluster, you also needs to support the ray package e.g. ray[data] which \r\n",
        "#match the version of the ray package(s) in your compute instance. If you don't specify pip_packages then ray[default] is inserted \r\n",
        "#automatically\r\n",
        "\r\n",
        "# For use as client mode, uncomment these lines\r\n",
        "ray = ray_on_aml.getRay(num_node=2,pip_packages=[\"ray[air]==2.2.0\",\"ray[data]==2.2.0\",\"torch==1.13.0\",\"fastparquet==2022.12.0\", \r\n",
        "\"azureml-mlflow==1.48.0\", \"pyarrow==6.0.1\", \"dask==2022.12.0\", \"adlfs==2022.11.2\", \"fsspec==2022.11.0\"])\r\n",
        "client = ray.init(f\"ray://{ray_on_aml.headnode_private_ip}:10001\")\r\n",
        "\r\n",
        "#use CI as head node\r\n",
        "\r\n",
        "# ray = ray_on_aml.getRay(ci_is_head=True, num_node=2)"
      ],
      "outputs": [],
      "execution_count": null,
      "metadata": {
        "jupyter": {
          "source_hidden": false,
          "outputs_hidden": false
        },
        "nteract": {
          "transient": {
            "deleting": false
          }
        },
        "gather": {
          "logged": 1671086991764
        }
      }
    },
    {
      "cell_type": "code",
      "source": [
        "#Ray also support Ray dataset. You can read into ray dataset then convert to Dask or other ML format which is convenient for ML training.https://docs.ray.io/en/latest/data/dataset.html\r\n",
        "# you may need to upgrade pyarrow to run this successfully\r\n",
        "from adlfs import AzureBlobFileSystem\r\n",
        "\r\n",
        "abfs = AzureBlobFileSystem(account_name=\"azureopendatastorage\",  container_name=\"isdweatherdatacontainer\")\r\n",
        "#if read all years and months\r\n",
        "# data = ray.data.read_parquet(\"az://isdweatherdatacontainer/ISDWeather//\", filesystem=abfs)\r\n",
        "data =ray.data.read_parquet([\"az://isdweatherdatacontainer/ISDWeather/year=2015/\"], filesystem=abfs)\r\n",
        "data.count()\r\n",
        "# 1,584,481,119 is the count for all data "
      ],
      "outputs": [],
      "execution_count": null,
      "metadata": {
        "jupyter": {
          "source_hidden": false,
          "outputs_hidden": false
        },
        "nteract": {
          "transient": {
            "deleting": false
          }
        },
        "gather": {
          "logged": 1671087167273
        }
      }
    },
    {
      "cell_type": "code",
      "source": [
        "ray_on_aml.shutdown()\r\n",
        "# ray.shutdown(True)"
      ],
      "outputs": [],
      "execution_count": null,
      "metadata": {
        "jupyter": {
          "source_hidden": false,
          "outputs_hidden": false
        },
        "nteract": {
          "transient": {
            "deleting": false
          }
        },
        "gather": {
          "logged": 1671087344887
        }
      }
    },
    {
      "cell_type": "code",
      "source": [
        "from azure.ai.ml import command, Input, Output\r\n",
        "from src.ray_on_aml.core import Ray_On_AML\r\n",
        "import logging\r\n",
        "\r\n",
        "ray_on_aml =Ray_On_AML(ml_client=ml_client, compute_cluster =\"ray-on-aml-workers\")\r\n",
        "\r\n",
        "inputs={\r\n",
        "    \"diabetes\": Input(\r\n",
        "        type=\"uri_folder\",\r\n",
        "        path=\"azureml://datastores/workspaceblobstore/paths/data\",\r\n",
        "    )\r\n",
        "}\r\n",
        "\r\n",
        "outputs={\r\n",
        "    \"output1\": Output(\r\n",
        "        type=\"uri_folder\",\r\n",
        "        path=\"azureml://datastores/workspaceblobstore/paths/ray_outputs\",\r\n",
        "    ),\r\n",
        "    \"output2\": Output(\r\n",
        "        type=\"uri_folder\",\r\n",
        "        path=\"azureml://datastores/workspaceblobstore/paths/ray_outputs\",\r\n",
        "    )\r\n",
        "}\r\n",
        "\r\n",
        "\r\n",
        "ray = ray_on_aml.getRay(inputs = inputs, outputs=outputs, num_node=2,\r\n",
        "pip_packages=[\"ray[air]==2.2.0\",\"ray[data]==2.2.0\",\"torch==1.13.0\",\"fastparquet==2022.12.0\", \r\n",
        "\"azureml-mlflow==1.48.0\", \"pyarrow==6.0.1\", \"dask==2022.12.0\", \"adlfs==2022.11.2\", \"fsspec==2022.11.0\"])\r\n",
        "client = ray.init(f\"ray://{ray_on_aml.headnode_private_ip}:10001\")"
      ],
      "outputs": [
        {
          "output_type": "stream",
          "name": "stderr",
          "text": "Warning: the provided asset name 'ray-on-aml-dev-3490264930' will not be used for anonymous registration\nWarning: the provided asset name 'ray-on-aml-dev-3490264930' will not be used for anonymous registration\n\u001b[2m\u001b[33m(raylet, ip=10.0.0.8)\u001b[0m /azureml-envs/azureml_c0eb32c1b90d5f184f6500831f6bfab1/lib/python3.10/site-packages/ray/dashboard/agent.py:51: DeprecationWarning: There is no current event loop\n\u001b[2m\u001b[33m(raylet, ip=10.0.0.8)\u001b[0m   aiogrpc.init_grpc_aio()\n"
        },
        {
          "output_type": "stream",
          "name": "stdout",
          "text": "Waiting cluster to start and return head node's ip\n.............\n cluster is ready, head node ip  10.0.0.6\n"
        }
      ],
      "execution_count": 5,
      "metadata": {
        "jupyter": {
          "source_hidden": false,
          "outputs_hidden": false
        },
        "nteract": {
          "transient": {
            "deleting": false
          }
        },
        "gather": {
          "logged": 1671087620352
        }
      }
    },
    {
      "cell_type": "code",
      "source": [
        "data = ray.data.read_csv(ray_on_aml.mount_points['diabetes'])\r\n",
        "\r\n",
        "# data = ray.data.read_parquet(\"az://isdweatherdatacontainer/ISDWeather/year=2009\", filesystem=abfs)\r\n",
        "print(data.count())"
      ],
      "outputs": [
        {
          "output_type": "stream",
          "name": "stderr",
          "text": "2022-12-15 07:00:44,698\tWARNING read_api.py:326 -- ⚠️  The number of blocks in this dataset (1) limits its parallelism to 1 concurrent tasks. This is much less than the number of available CPU slots in the cluster. Use `.repartition(n)` to increase the number of dataset blocks.\n"
        },
        {
          "output_type": "stream",
          "name": "stdout",
          "text": "442\n"
        }
      ],
      "execution_count": 6,
      "metadata": {
        "jupyter": {
          "source_hidden": false,
          "outputs_hidden": false
        },
        "nteract": {
          "transient": {
            "deleting": false
          }
        },
        "gather": {
          "logged": 1671087645071
        }
      }
    },
    {
      "cell_type": "code",
      "source": [
        "ray.cluster_resources()\r\n"
      ],
      "outputs": [],
      "execution_count": null,
      "metadata": {
        "jupyter": {
          "source_hidden": false,
          "outputs_hidden": false
        },
        "nteract": {
          "transient": {
            "deleting": false
          }
        },
        "gather": {
          "logged": 1671087055540
        }
      }
    },
    {
      "cell_type": "code",
      "source": [],
      "outputs": [],
      "execution_count": null,
      "metadata": {
        "jupyter": {
          "source_hidden": false,
          "outputs_hidden": false
        },
        "nteract": {
          "transient": {
            "deleting": false
          }
        }
      }
    }
  ],
  "metadata": {
    "kernelspec": {
      "name": "python310-sdkv2",
      "language": "python",
      "display_name": "Python 3.10 - SDK V2"
    },
    "language_info": {
      "name": "python",
      "version": "3.10.6",
      "mimetype": "text/x-python",
      "codemirror_mode": {
        "name": "ipython",
        "version": 3
      },
      "pygments_lexer": "ipython3",
      "nbconvert_exporter": "python",
      "file_extension": ".py"
    },
    "kernel_info": {
      "name": "python310-sdkv2"
    },
    "microsoft": {
      "host": {
        "AzureML": {
          "notebookHasBeenCompleted": true
        }
      }
    },
    "nteract": {
      "version": "nteract-front-end@1.0.0"
    }
  },
  "nbformat": 4,
  "nbformat_minor": 2
}